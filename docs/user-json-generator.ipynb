{
 "cells": [
  {
   "cell_type": "code",
   "execution_count": 1,
   "metadata": {},
   "outputs": [],
   "source": [
    "names = \"\"\"Michael\n",
    "Christopher\n",
    "Jessica\n",
    "Matthew\n",
    "Ashley\n",
    "Jennifer\n",
    "Joshua\n",
    "Amanda\n",
    "Daniel\n",
    "David\n",
    "James\n",
    "Robert\n",
    "John\n",
    "Joseph\n",
    "Andrew\n",
    "Ryan\n",
    "Brandon\n",
    "Jason\n",
    "Justin\n",
    "Sarah\n",
    "William\n",
    "Jonathan\n",
    "Stephanie\n",
    "Brian\n",
    "Nicole\n",
    "Nicholas\n",
    "Anthony\n",
    "Heather\n",
    "Eric\n",
    "Elizabeth\"\"\"\n",
    "names = names.split()\n",
    "    "
   ]
  },
  {
   "cell_type": "code",
   "execution_count": 2,
   "metadata": {},
   "outputs": [
    {
     "data": {
      "text/plain": [
       "5"
      ]
     },
     "execution_count": 2,
     "metadata": {},
     "output_type": "execute_result"
    }
   ],
   "source": [
    "biographyStr= \"\"\"Marjorie McLaughlin is a dishy woman from Dallas who can only laugh when facing north. People often compare her to a supermodel. Her biggest fear is her friends discovering that she can't sleep. She is particularly interested in making sandwiches out of vegetables.\n",
    "Frances is an ambitious drama student who finds it hard to trust people. She looks relatively fit. She strongly dislikes her girlfriend. She must use her talent for playing video games to heal the people around her before she can work on her own problems.\n",
    "Breanna is a caring teenager who finds it hard to do the right thing. She has eyes like saucers. She strongly dislikes anteaters. She is particularly interested in hosting dangerous guests.\n",
    "Susan Wang is a fashionable woman from South America who can only walk the moon is in Capricorn. She usually wears false eyebrows. She strongly dislikes hippos. She has been wrongly accused of hijacking a radio show.\n",
    "A nineteen-year-old teacher is angry about rising taxes. People often compare him to a lucky tree. His top quality is that he is particularly inspiring. He must use his talent for campaigning to heal the people around him before he can work on his own problems.\n",
    "\"\"\"\n",
    "bios = biographyStr.split(\"\\n\")\n",
    "len(bios[:5])\n",
    "# bios[:2]"
   ]
  },
  {
   "cell_type": "code",
   "execution_count": 3,
   "metadata": {},
   "outputs": [
    {
     "name": "stdout",
     "output_type": "stream",
     "text": [
      "['jubilantBittern8', 'murkyFish4', 'solemnWeaver4', 'pacifiedCheetah3', 'bubblyChough8', 'pacifiedMuesli3', 'excludedSnipe3', 'mereEland0', 'amusedBass3', 'humorousBagels4']\n",
      "[3 8 6 0 1]\n",
      "jubilantBittern8\n",
      "murkyFish4\n",
      "solemnWeaver4\n",
      "pacifiedCheetah3\n",
      "bubblyChough8\n"
     ]
    },
    {
     "data": {
      "text/plain": [
       "['pacifiedCheetah3',\n",
       " 'amusedBass3',\n",
       " 'excludedSnipe3',\n",
       " 'jubilantBittern8',\n",
       " 'murkyFish4']"
      ]
     },
     "execution_count": 3,
     "metadata": {},
     "output_type": "execute_result"
    }
   ],
   "source": [
    "from random_username.generate import generate_username\n",
    "import random\n",
    "import pandas as pd\n",
    "user_dict = {}\n",
    "user_dict[\"firstName\"] = []\n",
    "user_dict[\"lastName\"] = []\n",
    "user_dict[\"email\"] = []\n",
    "user_dict[\"clubs\"] = [[]] * 5\n",
    "user_dict[\"following\"] = [[\"1cJoazExtk\"]] * 5\n",
    "user_dict[\"followers\"] = [[]] * 5\n",
    "user_dict[\"biography\"] = bios[:5]\n",
    "user_dict[\"isSeed\"] = [False]*5\n",
    "user_dict[\"password\"] = [\"123\"]*5\n",
    "nominator_dict = {\n",
    "      \"__type\": \"Pointer\",\n",
    "      \"className\": \"_User\",\n",
    "      \"objectId\": \"1cJoazExtk\"\n",
    "    }\n",
    "users = []\n",
    "usernames=generate_username(10)\n",
    "print(usernames)\n",
    "import numpy as np\n",
    "uindexes = np.random.choice(10, 5, replace=False)\n",
    "print(uindexes)\n",
    "for _ in range(5):\n",
    "    user_dict = {}\n",
    "    i = random.randint(0,len(names) - 1)\n",
    "    user_dict[\"firstName\"] = names[i]\n",
    "    i = random.randint(0,len(names)-1)\n",
    "    user_dict[\"lastName\"] = names[i]\n",
    "    user_dict[\"email\"] = (str(_)+\"@\"+str(_)+\".com\")\n",
    "    print(usernames[_])\n",
    "    user_dict[\"username\"] = usernames[uindexes[_]]\n",
    "    user_dict[\"nominator\"] = nominator_dict\n",
    "    \n",
    "    user_dict[\"clubs\"] = []\n",
    "    user_dict[\"following\"] = [\"1cJoazExtk\"]\n",
    "    user_dict[\"followers\"] = [] \n",
    "    i = random.randint(0,len(bios)-1)\n",
    "    user_dict[\"biography\"] = bios[i]\n",
    "    user_dict[\"isSeed\"] = False\n",
    "    user_dict[\"password\"] = \"123\"\n",
    "    users.append(user_dict)\n",
    "results_dict = {}\n",
    "results_dict[\"results\"] = users\n",
    "\n",
    "[_[\"username\"] for _ in users]"
   ]
  },
  {
   "cell_type": "code",
   "execution_count": 4,
   "metadata": {},
   "outputs": [],
   "source": [
    "# df = pd.DataFrame(user_dict)\n",
    "# df.to_csv(\"users.csv\", index=False)\n",
    "import json\n",
    "json.dumps(user_dict)\n",
    "with open(\"users.json\", \"w\") as outfile: \n",
    "    json.dump(results_dict, outfile, indent =4)\n"
   ]
  },
  {
   "cell_type": "code",
   "execution_count": null,
   "metadata": {},
   "outputs": [],
   "source": []
  },
  {
   "cell_type": "code",
   "execution_count": null,
   "metadata": {},
   "outputs": [],
   "source": []
  }
 ],
 "metadata": {
  "kernelspec": {
   "display_name": "Python 3",
   "language": "python",
   "name": "python3"
  },
  "language_info": {
   "codemirror_mode": {
    "name": "ipython",
    "version": 3
   },
   "file_extension": ".py",
   "mimetype": "text/x-python",
   "name": "python",
   "nbconvert_exporter": "python",
   "pygments_lexer": "ipython3",
   "version": "3.8.5"
  }
 },
 "nbformat": 4,
 "nbformat_minor": 4
}
